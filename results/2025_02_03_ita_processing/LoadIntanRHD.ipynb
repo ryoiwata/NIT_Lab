{
 "cells": [
  {
   "cell_type": "code",
   "execution_count": 27,
   "id": "f3f7c635",
   "metadata": {},
   "outputs": [],
   "source": [
    "import pandas as pd\n",
    "import matplotlib.pyplot as plt\n",
    "import glob\n",
    "import os\n",
    "import mne\n",
    "from collections import defaultdict "
   ]
  },
  {
   "cell_type": "code",
   "execution_count": 3,
   "id": "98ad5e4d",
   "metadata": {},
   "outputs": [],
   "source": [
    "%matplotlib notebook"
   ]
  },
  {
   "cell_type": "markdown",
   "id": "8d0f8a3b",
   "metadata": {},
   "source": [
    "# Load Data from an Intan RHD file.\n",
    "### Header information (and saved data, if present) will be stored in the *result* variable. You'll also be able to specify a channel's name to plot its recorded data as an example of accessing data from *result*."
   ]
  },
  {
   "cell_type": "code",
   "execution_count": 2,
   "id": "256cb8d8",
   "metadata": {},
   "outputs": [],
   "source": [
    "# Load the background Python functions that allow for data loading and plotting\n",
    "%run importrhdutilities.py"
   ]
  },
  {
   "cell_type": "markdown",
   "id": "028df8fc",
   "metadata": {},
   "source": [
    "### Name of file to load. To load a different file, move it to the same directory as this notebook, and change the following 'filename' variable to point the name of your file."
   ]
  },
  {
   "cell_type": "code",
   "execution_count": 35,
   "id": "950b335b",
   "metadata": {},
   "outputs": [],
   "source": [
    "metadata = pd.read_csv('./data/metadata.csv')"
   ]
  },
  {
   "cell_type": "code",
   "execution_count": 36,
   "id": "4fb0847d",
   "metadata": {},
   "outputs": [
    {
     "data": {
      "text/html": [
       "<div>\n",
       "<style scoped>\n",
       "    .dataframe tbody tr th:only-of-type {\n",
       "        vertical-align: middle;\n",
       "    }\n",
       "\n",
       "    .dataframe tbody tr th {\n",
       "        vertical-align: top;\n",
       "    }\n",
       "\n",
       "    .dataframe thead th {\n",
       "        text-align: right;\n",
       "    }\n",
       "</style>\n",
       "<table border=\"1\" class=\"dataframe\">\n",
       "  <thead>\n",
       "    <tr style=\"text-align: right;\">\n",
       "      <th></th>\n",
       "      <th>Channel Number</th>\n",
       "      <th>Color of Cables</th>\n",
       "      <th>Coordinate</th>\n",
       "      <th>Region</th>\n",
       "      <th>Purpose</th>\n",
       "    </tr>\n",
       "  </thead>\n",
       "  <tbody>\n",
       "    <tr>\n",
       "      <th>0</th>\n",
       "      <td>13</td>\n",
       "      <td>Yellow</td>\n",
       "      <td>ML-5.38 AP+1.16</td>\n",
       "      <td>S1ULp</td>\n",
       "      <td>Should be right whiskers, error on drilling</td>\n",
       "    </tr>\n",
       "    <tr>\n",
       "      <th>1</th>\n",
       "      <td>14</td>\n",
       "      <td>Orange</td>\n",
       "      <td>ML-2 AP2</td>\n",
       "      <td>Edge of FrA and cc</td>\n",
       "      <td>Not designed for this, error on drilling</td>\n",
       "    </tr>\n",
       "    <tr>\n",
       "      <th>2</th>\n",
       "      <td>16</td>\n",
       "      <td>Blue</td>\n",
       "      <td>ML-2 AP-1.5</td>\n",
       "      <td>S1HL</td>\n",
       "      <td>Right foot</td>\n",
       "    </tr>\n",
       "    <tr>\n",
       "      <th>3</th>\n",
       "      <td>17</td>\n",
       "      <td>Red</td>\n",
       "      <td>ML+3 AP+5</td>\n",
       "      <td>FrA</td>\n",
       "      <td>Possible Ref</td>\n",
       "    </tr>\n",
       "    <tr>\n",
       "      <th>4</th>\n",
       "      <td>19</td>\n",
       "      <td>Black</td>\n",
       "      <td>ML+5 AP-2.5</td>\n",
       "      <td>S1BF</td>\n",
       "      <td>Left whiskers</td>\n",
       "    </tr>\n",
       "  </tbody>\n",
       "</table>\n",
       "</div>"
      ],
      "text/plain": [
       "   Channel Number Color of Cables       Coordinate              Region  \\\n",
       "0              13          Yellow  ML-5.38 AP+1.16               S1ULp   \n",
       "1              14          Orange         ML-2 AP2  Edge of FrA and cc   \n",
       "2              16            Blue      ML-2 AP-1.5                S1HL   \n",
       "3              17             Red        ML+3 AP+5                 FrA   \n",
       "4              19           Black      ML+5 AP-2.5                S1BF   \n",
       "\n",
       "                                       Purpose  \n",
       "0  Should be right whiskers, error on drilling  \n",
       "1     Not designed for this, error on drilling  \n",
       "2                                   Right foot  \n",
       "3                                 Possible Ref  \n",
       "4                                Left whiskers  "
      ]
     },
     "execution_count": 36,
     "metadata": {},
     "output_type": "execute_result"
    }
   ],
   "source": [
    "metadata"
   ]
  },
  {
   "cell_type": "code",
   "execution_count": 5,
   "id": "a017ea6c",
   "metadata": {},
   "outputs": [],
   "source": [
    "eeg_files = sorted(glob.glob('./data/**/*.rhd', recursive=True))"
   ]
  },
  {
   "cell_type": "code",
   "execution_count": 6,
   "id": "3a28bb2a",
   "metadata": {},
   "outputs": [
    {
     "data": {
      "text/plain": [
       "['./data/0121_experiment-20250203T183541Z-001/0121_experiment/intan_files/0121/001_250121_160632/001_250121_160632.rhd',\n",
       " './data/0121_experiment-20250203T183541Z-001/0121_experiment/intan_files/0121/002_250121_174234/002_250121_174234.rhd',\n",
       " './data/0121_experiment-20250203T183541Z-001/0121_experiment/intan_files/0121/003_250121_175015/003_250121_175015.rhd',\n",
       " './data/0121_experiment-20250203T183541Z-001/0121_experiment/intan_files/0121/005_250121_175739/005_250121_175739.rhd',\n",
       " './data/0121_experiment-20250203T183541Z-001/0121_experiment/intan_files/0121/007_250121_180605/007_250121_180605.rhd',\n",
       " './data/0121_experiment-20250203T183541Z-001/0121_experiment/intan_files/0121/008_250121_180703/008_250121_180703.rhd',\n",
       " './data/0121_experiment-20250203T183541Z-001/0121_experiment/intan_files/0121/009_250121_181000/009_250121_181000.rhd',\n",
       " './data/0121_experiment-20250203T183541Z-001/0121_experiment/intan_files/0121/012_250121_181646/012_250121_181646.rhd',\n",
       " './data/0121_experiment-20250203T183541Z-001/0121_experiment/intan_files/0121/013_250121_182953/013_250121_182953.rhd']"
      ]
     },
     "execution_count": 6,
     "metadata": {},
     "output_type": "execute_result"
    }
   ],
   "source": [
    "eeg_files"
   ]
  },
  {
   "cell_type": "markdown",
   "id": "240733db",
   "metadata": {},
   "source": [
    "- Loading in the data"
   ]
  },
  {
   "cell_type": "code",
   "execution_count": 47,
   "id": "c0839864",
   "metadata": {},
   "outputs": [
    {
     "name": "stdout",
     "output_type": "stream",
     "text": [
      "\n",
      "Reading Intan Technologies RHD Data File, Version 3.3\n",
      "\n",
      "Found 7 amplifier channels.\n",
      "Found 0 auxiliary input channels.\n",
      "Found 0 supply voltage channels.\n",
      "Found 0 board ADC channels.\n",
      "Found 0 board digital input channels.\n",
      "Found 0 board digital output channels.\n",
      "Found 0 temperature sensors channels.\n",
      "\n",
      "File contains 4.975 seconds of data.  Amplifiers were sampled at 30.00 kS/s.\n",
      "\n",
      "Allocating memory for data...\n",
      "Reading data from file...\n",
      "10% done...\n",
      "20% done...\n",
      "30% done...\n",
      "40% done...\n",
      "50% done...\n",
      "60% done...\n",
      "70% done...\n",
      "80% done...\n",
      "90% done...\n",
      "Parsing data...\n",
      "No missing timestamps in data.\n",
      "Done!  Elapsed time: 0.0 seconds\n"
     ]
    }
   ],
   "source": [
    "index_to_data = defaultdict(dict)\n",
    "# Looking at each file\n",
    "for file_path in eeg_files:\n",
    "    file_base = os.path.splitext(os.path.basename(file_path))[0]\n",
    "    try:\n",
    "        result, data_present = load_file(file_path)\n",
    "        index_to_data[file_base][\"loaded_file\"] = result\n",
    "\n",
    "        # all_channels = [(index, dictionary[\"native_channel_name\"]) for index, dictionary in enumerate(result[\"amplifier_channels\"])]\n",
    "        all_channels = [dictionary[\"native_channel_name\"] for dictionary in result[\"amplifier_channels\"]]\n",
    "        sampling_rate = result[\"frequency_parameters\"][\"amplifier_sample_rate\"]\n",
    "        \n",
    "        info = mne.create_info(ch_names=all_channels, sfreq=sampling_rate, ch_types='eeg')\n",
    "        raw = mne.io.RawArray(result[\"amplifier_data\"], info)\n",
    "\n",
    "    except:\n",
    "        print(f\"Error loading {file_path}\")\n",
    "    break"
   ]
  },
  {
   "cell_type": "code",
   "execution_count": 45,
   "id": "a8442902",
   "metadata": {},
   "outputs": [
    {
     "data": {
      "text/plain": [
       "[(0, 'A-013'),\n",
       " (1, 'A-014'),\n",
       " (2, 'A-015'),\n",
       " (3, 'A-016'),\n",
       " (4, 'A-017'),\n",
       " (5, 'A-018'),\n",
       " (6, 'A-019')]"
      ]
     },
     "execution_count": 45,
     "metadata": {},
     "output_type": "execute_result"
    }
   ],
   "source": [
    "all_channels"
   ]
  },
  {
   "cell_type": "code",
   "execution_count": 38,
   "id": "9315eb10",
   "metadata": {},
   "outputs": [
    {
     "data": {
      "text/plain": [
       "np.float64(60.23676666666667)"
      ]
     },
     "execution_count": 38,
     "metadata": {},
     "output_type": "execute_result"
    }
   ],
   "source": [
    "result[\"t_amplifier\"][-1]"
   ]
  },
  {
   "cell_type": "code",
   "execution_count": 46,
   "id": "534493fa",
   "metadata": {},
   "outputs": [
    {
     "data": {
      "text/plain": [
       "array([[-1686.555, -1664.325, -1639.755, ...,   -55.575,   -53.82 ,\n",
       "          -56.745],\n",
       "       [-1263.405, -1244.49 , -1220.7  , ...,  -159.705,  -162.825,\n",
       "         -168.09 ],\n",
       "       [-1664.715, -1640.535, -1611.87 , ...,  -294.645,  -298.545,\n",
       "         -304.98 ],\n",
       "       ...,\n",
       "       [-1587.105, -1567.995, -1544.595, ...,  -157.365,  -163.995,\n",
       "         -170.43 ],\n",
       "       [-1798.29 , -1779.57 , -1752.66 , ...,  -100.425,  -101.4  ,\n",
       "         -103.935],\n",
       "       [-1736.475, -1714.05 , -1691.04 , ...,   -98.28 ,   -98.475,\n",
       "          -99.45 ]], shape=(7, 149248))"
      ]
     },
     "execution_count": 46,
     "metadata": {},
     "output_type": "execute_result"
    }
   ],
   "source": [
    "result[\"amplifier_data\"]"
   ]
  },
  {
   "cell_type": "code",
   "execution_count": 42,
   "id": "3cfc8251",
   "metadata": {},
   "outputs": [
    {
     "name": "stdout",
     "output_type": "stream",
     "text": [
      "0\n",
      "A-000\n",
      "1\n",
      "A-013\n",
      "2\n",
      "A-014\n",
      "3\n",
      "A-015\n",
      "4\n",
      "A-016\n",
      "5\n",
      "A-017\n",
      "6\n",
      "A-018\n",
      "7\n",
      "A-019\n",
      "8\n",
      "A-020\n",
      "9\n",
      "A-021\n",
      "10\n",
      "A-022\n",
      "11\n",
      "A-023\n"
     ]
    }
   ],
   "source": []
  },
  {
   "cell_type": "code",
   "execution_count": null,
   "id": "dc3768fd",
   "metadata": {},
   "outputs": [],
   "source": [
    "spike_triggers\n",
    "{'voltage_trigger_mode': 1, 'voltage_threshold': -70, 'digital_trigger_channel': 0, 'digital_edge_polarity': 0}\n",
    "amplifier_channels\n",
    "{'port_name': 'Port A', 'port_prefix': 'A', 'port_number': 1, 'native_channel_name': 'A-013', 'custom_channel_name': 'A-013', 'native_order': 13, 'custom_order': 13, 'chip_channel': 13, 'board_stream': 0, 'electrode_impedance_magnitude': 0.0, 'electrode_impedance_phase': 0.0}\n",
    "\n",
    "frequency_parameters\n",
    "frequency_parameters\n",
    "{'dsp_enabled': 1, 'actual_dsp_cutoff_frequency': 0.2914302945137024, 'actual_lower_bandwidth': 0.35791516304016113, 'actual_upper_bandwidth': 99.98820495605469, 'desired_dsp_cutoff_frequency': 0.2914302945137024, 'desired_lower_bandwidth': 0.35101354122161865, 'desired_upper_bandwidth': 100.0, 'notch_filter_frequency': 60, 'desired_impedance_test_frequency': 1000.0, 'actual_impedance_test_frequency': 0.0, 'amplifier_sample_rate': 30000.0, 'aux_input_sample_rate': 7500.0, 'supply_voltage_sample_rate': 234.375, 'board_adc_sample_rate': 30000.0, 'board_dig_in_sample_rate': 30000.0}\n",
    "\n",
    "t_amplifier\n",
    "0.0\n",
    "amplifier_data\n",
    "[ 78.     76.245  74.49  ... -39.585 -38.805 -38.61 ]"
   ]
  },
  {
   "cell_type": "code",
   "execution_count": 33,
   "id": "3d0d1715",
   "metadata": {},
   "outputs": [
    {
     "data": {
      "text/plain": [
       "array([[-1686.555, -1664.325, -1639.755, ...,   -55.575,   -53.82 ,\n",
       "          -56.745],\n",
       "       [-1263.405, -1244.49 , -1220.7  , ...,  -159.705,  -162.825,\n",
       "         -168.09 ],\n",
       "       [-1664.715, -1640.535, -1611.87 , ...,  -294.645,  -298.545,\n",
       "         -304.98 ],\n",
       "       ...,\n",
       "       [-1587.105, -1567.995, -1544.595, ...,  -157.365,  -163.995,\n",
       "         -170.43 ],\n",
       "       [-1798.29 , -1779.57 , -1752.66 , ...,  -100.425,  -101.4  ,\n",
       "         -103.935],\n",
       "       [-1736.475, -1714.05 , -1691.04 , ...,   -98.28 ,   -98.475,\n",
       "          -99.45 ]], shape=(7, 149248))"
      ]
     },
     "execution_count": 33,
     "metadata": {},
     "output_type": "execute_result"
    }
   ],
   "source": [
    "index_to_data[\"001_250121_160632\"][\"amplifier_data\"]"
   ]
  },
  {
   "cell_type": "code",
   "execution_count": 25,
   "id": "923d4f17",
   "metadata": {},
   "outputs": [
    {
     "data": {
      "text/plain": [
       "('013_250121_182953', '.rhd')"
      ]
     },
     "execution_count": 25,
     "metadata": {},
     "output_type": "execute_result"
    }
   ],
   "source": [
    "file_base"
   ]
  },
  {
   "cell_type": "code",
   "execution_count": 7,
   "id": "880246c0",
   "metadata": {
    "scrolled": true
   },
   "outputs": [
    {
     "name": "stdout",
     "output_type": "stream",
     "text": [
      "\n",
      "Reading Intan Technologies RHD Data File, Version 3.3\n",
      "\n",
      "Found 7 amplifier channels.\n",
      "Found 0 auxiliary input channels.\n",
      "Found 0 supply voltage channels.\n",
      "Found 0 board ADC channels.\n",
      "Found 0 board digital input channels.\n",
      "Found 0 board digital output channels.\n",
      "Found 0 temperature sensors channels.\n",
      "\n",
      "File contains 101.709 seconds of data.  Amplifiers were sampled at 30.00 kS/s.\n",
      "\n",
      "Allocating memory for data...\n",
      "Reading data from file...\n",
      "10% done...\n",
      "20% done...\n",
      "30% done...\n",
      "40% done...\n",
      "50% done...\n",
      "60% done...\n",
      "70% done...\n",
      "80% done...\n",
      "90% done...\n",
      "Parsing data...\n",
      "No missing timestamps in data.\n",
      "Done!  Elapsed time: 0.6 seconds\n"
     ]
    }
   ],
   "source": [
    "filename = 'sampledata.rhd' # Change this variable to load a different data file\n",
    "result, data_present = load_file(eeg_files[5])"
   ]
  },
  {
   "cell_type": "markdown",
   "id": "db4728ed",
   "metadata": {},
   "source": [
    "### Once a file is loaded, all of its information is stored in the *result* variable. If further analysis of recorded data is desired, this is the variable that should be used."
   ]
  },
  {
   "cell_type": "code",
   "execution_count": 8,
   "id": "2c0cfab5",
   "metadata": {},
   "outputs": [
    {
     "name": "stdout",
     "output_type": "stream",
     "text": [
      "A-013\n",
      "A-014\n",
      "A-015\n",
      "A-016\n",
      "A-017\n",
      "A-018\n",
      "A-019\n"
     ]
    }
   ],
   "source": [
    "print_all_channel_names(result) # Uncomment this line and re-run cell to display names of all available channels"
   ]
  },
  {
   "cell_type": "code",
   "execution_count": 17,
   "id": "8619cd50",
   "metadata": {},
   "outputs": [
    {
     "data": {
      "text/plain": [
       "dict_keys(['spike_triggers', 'amplifier_channels', 'notes', 'frequency_parameters', 'reference_channel', 't_amplifier', 'amplifier_data'])"
      ]
     },
     "execution_count": 17,
     "metadata": {},
     "output_type": "execute_result"
    }
   ],
   "source": [
    "result.keys()"
   ]
  },
  {
   "cell_type": "code",
   "execution_count": 23,
   "id": "2b58ce44",
   "metadata": {},
   "outputs": [
    {
     "name": "stdout",
     "output_type": "stream",
     "text": [
      "spike_triggers\n",
      "{'voltage_trigger_mode': 1, 'voltage_threshold': -70, 'digital_trigger_channel': 0, 'digital_edge_polarity': 0}\n",
      "amplifier_channels\n",
      "{'port_name': 'Port A', 'port_prefix': 'A', 'port_number': 1, 'native_channel_name': 'A-013', 'custom_channel_name': 'A-013', 'native_order': 13, 'custom_order': 13, 'chip_channel': 13, 'board_stream': 0, 'electrode_impedance_magnitude': 0.0, 'electrode_impedance_phase': 0.0}\n",
      "notes\n",
      "notes\n",
      "{'note1': '', 'note2': '', 'note3': ''}\n",
      "frequency_parameters\n",
      "frequency_parameters\n",
      "{'dsp_enabled': 1, 'actual_dsp_cutoff_frequency': 0.2914302945137024, 'actual_lower_bandwidth': 0.35791516304016113, 'actual_upper_bandwidth': 99.98820495605469, 'desired_dsp_cutoff_frequency': 0.2914302945137024, 'desired_lower_bandwidth': 0.35101354122161865, 'desired_upper_bandwidth': 100.0, 'notch_filter_frequency': 60, 'desired_impedance_test_frequency': 1000.0, 'actual_impedance_test_frequency': 0.0, 'amplifier_sample_rate': 30000.0, 'aux_input_sample_rate': 7500.0, 'supply_voltage_sample_rate': 234.375, 'board_adc_sample_rate': 30000.0, 'board_dig_in_sample_rate': 30000.0}\n",
      "reference_channel\n",
      "n\n",
      "t_amplifier\n",
      "0.0\n",
      "amplifier_data\n",
      "[ 78.     76.245  74.49  ... -39.585 -38.805 -38.61 ]\n"
     ]
    }
   ],
   "source": [
    "for key in result.keys():\n",
    "    try:\n",
    "        print(key)\n",
    "        print(result[key][0])\n",
    "    except:\n",
    "        print(key)\n",
    "        print(result[key])"
   ]
  },
  {
   "cell_type": "code",
   "execution_count": null,
   "id": "2e33b935",
   "metadata": {},
   "outputs": [],
   "source": [
    "# index_to_mne = {}\n",
    "# for index, df in all_eeg_df:\n",
    "#     # Converting dataframe to Numpy array\n",
    "#     eeg_data = df.drop(columns=['Second'], errors='ignore').to_numpy().T  # Transpose to shape (n_channels, n_samples)   \n",
    "\n",
    "#     # Removing first 5 seconds and last 5 seconds of data\n",
    "#     # eeg_data = eeg_data[:, sampling_rate * 10: -sampling_rate * 10]\n",
    "\n",
    "#     # channel_names = df.columns[1:]\n",
    "#     channel_names = [\"C3\", \"C4\"]\n",
    "\n",
    "#     info = mne.create_info(ch_names=channel_names, sfreq=sampling_rate, ch_types='eeg')\n",
    "#     raw = mne.io.RawArray(eeg_data, info)\n",
    "    \n",
    "#     # raw.apply_function(lambda x: x * 1e-5)\n",
    "\n",
    "#     # Load a standard montage\n",
    "#     montage = mne.channels.make_standard_montage('standard_1020')\n",
    "\n",
    "#     # Apply the montage to the raw object\n",
    "#     raw.set_montage(montage)\n",
    "\n",
    "#     # fig = raw.plot(scalings='auto', title=f\"Raw Signal - {index}\", start=start, duration=duration);\n",
    "#     # fig = raw.plot(scalings=dict(eeg=scaling), title=f\"Raw Signal - {index}\", start=start, duration=duration);\n",
    "\n",
    "#     # fig.suptitle(f\"Raw Signal - {index}\", fontsize=16)  # Add a title\n",
    "#     # fig.savefig(f\"./plots/raw_signal_{index}.png\")\n",
    "\n",
    "#     fig = raw.compute_psd(fmin=2, fmax=60, ).plot(average=False, spatial_colors=True, );\n",
    "#     fig.savefig(f\"./plots/raw_power_{index}.png\")\n",
    "\n",
    "\n",
    "#     ## Preprocessing\n",
    "\n",
    "#     # set notch filter to remove electrical noise\n",
    "#     raw.notch_filter(60)\n",
    "#     # only keeping frequencies between 1-50 Hz\n",
    "#     raw.filter(l_freq=fmin, h_freq=fmax, method=\"fir\", fir_design=\"firwin\", pad=\"reflect_limited\") \n",
    "    \n",
    "#     # Downsample a lot\n",
    "#     raw.resample(128, npad='auto')\n",
    "\n",
    "#     raw = raw.crop(tmin=5, tmax=65)\n",
    "\n",
    "#     # Extract data for specific channels (e.g., the first 2 channels)\n",
    "#     data = raw.get_data()  # Shape: (len(channels), n_times)\n",
    "#     times = raw.times  # Time points in seconds\n",
    "\n",
    "#     # Normalize the data\n",
    "#     normalized_data = data / np.sqrt(np.nanmedian(data**2, axis=1, keepdims=True)).astype(np.float32)\n",
    "#     raw._data = normalized_data  # Overwrite data in MNE object\n",
    "\n",
    "#     # Plot each channel\n",
    "#     fig, ax1 = plt.subplots(figsize=(16, 8))\n",
    "#     ax2 = ax1.twinx()\n",
    "#     ax1.plot(times + 5, raw._data[0], 'orange')\n",
    "#     ax2.plot(times + 5, raw._data[1], 'blue')\n",
    "\n",
    "#     ax1.set_xlabel('X data')\n",
    "#     ax1.set_ylabel('Y1 data', color='g')\n",
    "#     ax2.set_ylabel('Y2 data', color='b')\n",
    "\n",
    "\n",
    "#     current_time = wait_duration\n",
    "#     action_segments = []\n",
    "\n",
    "#     while current_time < times[-1]:\n",
    "#         # action_segments.append((current_time, current_time + stir_duration))\n",
    "#         plt.axvspan(current_time, current_time + stir_duration, color='orange', alpha=0.3)\n",
    "#         current_time += stir_duration + rest_duration\n",
    "\n",
    "\n",
    "#     # plt.title(\"EEG Signal\")\n",
    "#     # plt.xlabel(\"Time (s)\")\n",
    "#     # plt.ylabel(\"Amplitude (µV)\")\n",
    "#     plt.legend()\n",
    "#     plt.grid(True)\n",
    "#     plt.savefig(f\"./plots/filtered_signal_{index}.png\")\n",
    "\n",
    "#     # fig = raw.plot(scalings='auto', title=f\"Raw Signal - {index}\", start=start, duration=duration);\n",
    "#     # fig = raw.plot(scalings=dict(eeg=scaling), title=f\"Raw Signal - {index}\", start=start, duration=duration);\n",
    "#     # fig.suptitle(f\"Filtered Signal - {index}\", fontsize=16)  # Add a title\n",
    "#     # fig.savefig(f\"./plots/filtered_signal_{index}.png\")\n",
    "\n",
    "#     fig = raw.compute_psd(fmin=fmin, fmax=fmax, ).plot(average=False, spatial_colors=True, );\n",
    "#     fig.savefig(f\"./plots/filtered_power_{index}.png\")\n",
    "\n",
    "#     # set up and fit the ICA\n",
    "#     ica = mne.preprocessing.ICA(n_components=2, method='fastica')\n",
    "#     ica.fit(raw)\n",
    "#     # ica.exclude = [1, 2]  # details on how we picked these are omitted here\n",
    "#     fig = ica.plot_properties(raw)[0]\n",
    "#     fig.savefig(f\"./plots/ica0_{index}.png\")\n",
    "\n",
    "#     fig = ica.plot_properties(raw)[1]\n",
    "#     fig.savefig(f\"./plots/ica1_{index}.png\")\n",
    "\n",
    "#     index_to_mne[index] = raw\n",
    "\n"
   ]
  },
  {
   "cell_type": "code",
   "execution_count": 19,
   "id": "ab660e68",
   "metadata": {},
   "outputs": [
    {
     "data": {
      "text/plain": [
       "{'port_name': 'Port A',\n",
       " 'port_prefix': 'A',\n",
       " 'port_number': 1,\n",
       " 'native_channel_name': 'A-013',\n",
       " 'custom_channel_name': 'A-013',\n",
       " 'native_order': 13,\n",
       " 'custom_order': 13,\n",
       " 'chip_channel': 13,\n",
       " 'board_stream': 0,\n",
       " 'electrode_impedance_magnitude': 0.0,\n",
       " 'electrode_impedance_phase': 0.0}"
      ]
     },
     "execution_count": 19,
     "metadata": {},
     "output_type": "execute_result"
    }
   ],
   "source": [
    "result[\"amplifier_channels\"][0]"
   ]
  },
  {
   "cell_type": "code",
   "execution_count": 14,
   "id": "5ecdcea1",
   "metadata": {
    "scrolled": true
   },
   "outputs": [
    {
     "data": {
      "image/png": "[encoded data removed]",
      "text/plain": [
       "<Figure size 640x480 with 1 Axes>"
      ]
     },
     "metadata": {},
     "output_type": "display_data"
    }
   ],
   "source": [
    "channel_name = 'A-017' # Change this variable and re-run cell to plot a different channel\n",
    "\n",
    "%matplotlib inline\n",
    "\n",
    "if data_present:\n",
    "    plot_channel(channel_name, result)\n",
    "    \n",
    "else:\n",
    "    print('Plotting not possible; no data in this file')"
   ]
  },
  {
   "cell_type": "code",
   "execution_count": null,
   "id": "7e541236",
   "metadata": {},
   "outputs": [],
   "source": []
  }
 ],
 "metadata": {
  "kernelspec": {
   "display_name": "Python 3",
   "language": "python",
   "name": "python3"
  },
  "language_info": {
   "codemirror_mode": {
    "name": "ipython",
    "version": 3
   },
   "file_extension": ".py",
   "mimetype": "text/x-python",
   "name": "python",
   "nbconvert_exporter": "python",
   "pygments_lexer": "ipython3",
   "version": "3.13.1"
  }
 },
 "nbformat": 4,
 "nbformat_minor": 5
}
